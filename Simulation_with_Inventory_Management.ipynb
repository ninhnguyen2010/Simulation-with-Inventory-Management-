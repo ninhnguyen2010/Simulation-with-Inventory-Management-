{
  "cells": [
    {
      "cell_type": "code",
      "execution_count": null,
      "id": "222bdff7",
      "metadata": {
        "id": "222bdff7"
      },
      "outputs": [],
      "source": [
        "import numpy as np\n",
        "import pandas as pd"
      ]
    },
    {
      "cell_type": "markdown",
      "id": "e59f020c",
      "metadata": {
        "id": "e59f020c"
      },
      "source": [
        "<hr style=\"border: 20px solid black\">"
      ]
    },
    {
      "cell_type": "code",
      "execution_count": null,
      "id": "a9fb2914",
      "metadata": {
        "id": "a9fb2914"
      },
      "outputs": [],
      "source": [
        "rng = np.random.default_rng(seed = 0) "
      ]
    },
    {
      "cell_type": "markdown",
      "id": "08201758",
      "metadata": {
        "id": "08201758"
      },
      "source": [
        "<h3>Uniform Distribution</h3>\n",
        "<br>\n",
        "<font size=\"+1\">\n",
        "    <ul>\n",
        "        <li>Simulate $100,000$ samples from a uniform distribution between $1$ and $3$.</li>\n",
        "        <br>\n",
        "        <li>Plot the histogram with $20$ bins.</li>\n",
        "        <br>\n",
        "    </ul>\n",
        "</font>"
      ]
    },
    {
      "cell_type": "code",
      "execution_count": null,
      "id": "94f6efb2",
      "metadata": {
        "id": "94f6efb2",
        "colab": {
          "base_uri": "https://localhost:8080/",
          "height": 298
        },
        "outputId": "f4597ae3-a125-4b23-d5c6-b2b41bd29138"
      },
      "outputs": [
        {
          "output_type": "execute_result",
          "data": {
            "text/plain": [
              "<matplotlib.axes._subplots.AxesSubplot at 0x7f3f85e2a9d0>"
            ]
          },
          "metadata": {},
          "execution_count": 39
        },
        {
          "output_type": "display_data",
          "data": {
            "text/plain": [
              "<Figure size 432x288 with 1 Axes>"
            ],
            "image/png": "[encoded data removed]"
          },
          "metadata": {
            "needs_background": "light"
          }
        }
      ],
      "source": [
        "s = pd.DataFrame(rng.uniform(low = 1, high = 3, size = 100000))\n",
        "import matplotlib.pyplot as plt\n",
        "s.plot(kind='hist', bins =20, title='Uniform Distribution Histogram')"
      ]
    },
    {
      "cell_type": "markdown",
      "id": "9ac5a2a3",
      "metadata": {
        "id": "9ac5a2a3"
      },
      "source": [
        "<h3>Geometric Distribution</h3>\n",
        "<br>\n",
        "<font size=\"+1\">\n",
        "    <ul>\n",
        "        <li>Simulate $100,000$ samples from a geometric distribution with parameter $p = 0.3$.</li>\n",
        "        <br>\n",
        "        <li>Plot the histogram with $30$ bins.</li>\n",
        "        <br>\n",
        "    </ul>\n",
        "</font>"
      ]
    },
    {
      "cell_type": "code",
      "execution_count": null,
      "id": "dfca7a15",
      "metadata": {
        "id": "dfca7a15",
        "colab": {
          "base_uri": "https://localhost:8080/",
          "height": 298
        },
        "outputId": "b1a8a76b-3345-4abd-c8ce-95bba369f6f8"
      },
      "outputs": [
        {
          "output_type": "execute_result",
          "data": {
            "text/plain": [
              "<matplotlib.axes._subplots.AxesSubplot at 0x7f3f85e14310>"
            ]
          },
          "metadata": {},
          "execution_count": 40
        },
        {
          "output_type": "display_data",
          "data": {
            "text/plain": [
              "<Figure size 432x288 with 1 Axes>"
            ],
            "image/png": "[encoded data removed]"
          },
          "metadata": {
            "needs_background": "light"
          }
        }
      ],
      "source": [
        "g = pd.DataFrame(rng.geometric(p=0.3, size = 100000))\n",
        "g.plot(kind='hist', bins =30, title='Geometric Distribution Histogram')"
      ]
    },
    {
      "cell_type": "markdown",
      "id": "a0882472",
      "metadata": {
        "id": "a0882472"
      },
      "source": [
        "<h3>Poisson Distribution</h3>\n",
        "<br>\n",
        "<font size=\"+1\">\n",
        "    <ul>\n",
        "        <li>Assume customers are arriving at a grocery store according to some probability distribution over any given $10$ minute interval.</li>\n",
        "        <br>\n",
        "        <li>Further, assume the number of customers arriving in a $10$ minute interval is distributed according to a Poisson distribution with intesity rate of $\\lambda = 8.5$.</li>\n",
        "        <br>\n",
        "        <li>Estimate the chance that the number of arrivals in a given $10$ minute interval is $15$ or higher.</li>\n",
        "        <br>\n",
        "        <li style=\"color:red\">Hint: Generate $1,000,000$ samples from a Poisson distribution with parameter $\\lambda = 8.5$ and count the <i>proportion</i> (use the mean function) of samples that are at least 15.</li>\n",
        "        <br>\n",
        "    </ul>\n",
        "</font>"
      ]
    },
    {
      "cell_type": "code",
      "execution_count": null,
      "id": "a5aed051",
      "metadata": {
        "id": "a5aed051",
        "colab": {
          "base_uri": "https://localhost:8080/",
          "height": 315
        },
        "outputId": "f36a165f-aaf4-44b0-8046-f65ac0166b99"
      },
      "outputs": [
        {
          "output_type": "stream",
          "name": "stdout",
          "text": [
            "sample    0.027517\n",
            "dtype: float64\n"
          ]
        },
        {
          "output_type": "display_data",
          "data": {
            "text/plain": [
              "<Figure size 432x288 with 1 Axes>"
            ],
            "image/png": "[encoded data removed]"
          },
          "metadata": {
            "needs_background": "light"
          }
        }
      ],
      "source": [
        "poisson = pd.DataFrame(rng.poisson(lam=8.5, size=1000000), columns=['sample'])\n",
        "poisson.plot(kind='hist', bins =20, title='Poisson Distribution Histogram')\n",
        "\n",
        "probability = (poisson>= 15).sum() /len(poisson)\n",
        "print(probability)"
      ]
    },
    {
      "cell_type": "markdown",
      "id": "a0206c61",
      "metadata": {
        "id": "a0206c61"
      },
      "source": [
        "<h3>Normal Distribution</h3>\n",
        "<br>\n",
        "<font size=\"+1\">\n",
        "    <ul>\n",
        "        <li>Suppose there are two products, and a customer's willingness to pay for each of the two products are drawn independently from the following distributions:</li>\n",
        "        <br>\n",
        "        <ul>\n",
        "            <li>Product 1: $Normal(25, \\ 10)$</li>\n",
        "            <br>\n",
        "            <li>Product 2: $Normal(20, \\ 15)$</li>\n",
        "            <br>\n",
        "        </ul>\n",
        "        <li>Estimate the proportion of customers whose willingness to pay is higher for the second product than the first product, <b>and</b> whose willingness to pay for the second product is at least zero.</li>\n",
        "        <br>\n",
        "        <li style=\"color:red\">Hint: Generate $1,000,000$ samples from each distribution and compare the two series using vectorized operations.</li>\n",
        "        <br>\n",
        "    </ul>\n",
        "</font>"
      ]
    },
    {
      "cell_type": "code",
      "execution_count": null,
      "id": "de0bd95d",
      "metadata": {
        "id": "de0bd95d"
      },
      "outputs": [],
      "source": [
        "p1 = pd.DataFrame(rng.normal(loc=25, scale=10, size=1000000), columns=['sample'])\n",
        "p2 = pd.DataFrame(rng.normal(loc=20, scale=15, size=1000000), columns=['sample'])\n"
      ]
    },
    {
      "cell_type": "code",
      "source": [
        "probability = ((p2 >=0) & (p2 > p1)).sum()/ len(p2)\n",
        "probability"
      ],
      "metadata": {
        "colab": {
          "base_uri": "https://localhost:8080/"
        },
        "id": "_Jm-hYhOeEVr",
        "outputId": "2f60523e-ae82-4812-a570-acb3914e1c78"
      },
      "id": "_Jm-hYhOeEVr",
      "execution_count": null,
      "outputs": [
        {
          "output_type": "execute_result",
          "data": {
            "text/plain": [
              "sample    0.390222\n",
              "dtype: float64"
            ]
          },
          "metadata": {},
          "execution_count": 43
        }
      ]
    },
    {
      "cell_type": "markdown",
      "id": "eabeb440",
      "metadata": {
        "id": "eabeb440"
      },
      "source": [
        "<h2>Sampling from Complex Distributions with Algorithmic Thinking and Numpy</h2>"
      ]
    },
    {
      "cell_type": "markdown",
      "id": "3ec4145b",
      "metadata": {
        "id": "3ec4145b"
      },
      "source": [
        "<h3>Mixture of Distributions</h3>\n",
        "<br>\n",
        "<font size=\"+1\">\n",
        "    <ul>\n",
        "        <li>Suppose there are two market segments, <i>A</i> and <i>B</i>, and the willingness to pay for a product depends on the segment.</li>\n",
        "        <br>\n",
        "        <ul>\n",
        "            <li>Segment A: $Normal(150, \\ 50)$</li>\n",
        "            <br>\n",
        "            <li>Segment B: $Normal(50, \\ 20)$</li>\n",
        "            <br>\n",
        "        </ul>\n",
        "        <li>Moreover, each customer has a $0.2$ chance of being in segment A and $0.8$ chance of being in segment B.</li>\n",
        "        <br>\n",
        "        <li>Generate a simulated data set of the willingness to pay for $10,000$ customers and plot its histogram.</li>\n",
        "        <br>\n",
        "        <li style=\"color:red\">To generate a general mixture of simple distributions, you must first sample from the customer distribution, and then depending on the segment of the customer, sample from the willingness to pay distribution. You then repeat this logic for however many samples you wish to simulate.</li>\n",
        "        <br>\n",
        "    </ul>\n",
        "</font>"
      ]
    },
    {
      "cell_type": "code",
      "execution_count": null,
      "id": "68bd8925",
      "metadata": {
        "id": "68bd8925",
        "colab": {
          "base_uri": "https://localhost:8080/",
          "height": 298
        },
        "outputId": "a3a22b83-3ef8-4230-e770-106e6a5dcd87"
      },
      "outputs": [
        {
          "output_type": "execute_result",
          "data": {
            "text/plain": [
              "<matplotlib.axes._subplots.AxesSubplot at 0x7f3f86573d50>"
            ]
          },
          "metadata": {},
          "execution_count": 44
        },
        {
          "output_type": "display_data",
          "data": {
            "text/plain": [
              "<Figure size 432x288 with 1 Axes>"
            ],
            "image/png": "[encoded data removed]"
          },
          "metadata": {
            "needs_background": "light"
          }
        }
      ],
      "source": [
        "rng = np.random.default_rng(seed=42)\n",
        "\n",
        "simulated_segment = []\n",
        "for customers in range(10_000):\n",
        "    segment = rng.choice(['A', 'B'], p=[0.2, 0.8])\n",
        "    \n",
        "    if segment == 'A':\n",
        "        simulated_segment.append(rng.normal(150,50))\n",
        "    else:\n",
        "        simulated_segment.append(rng.normal(50,20))\n",
        "        \n",
        "simulated_segment = pd.DataFrame(simulated_segment, columns=['Segment Distribution'])\n",
        "\n",
        "simulated_segment.plot(kind='hist', bins=50, title='Simulated Histogram of segment distribution')\n",
        "\n"
      ]
    },
    {
      "cell_type": "markdown",
      "id": "ca10d8bf",
      "metadata": {
        "id": "ca10d8bf"
      },
      "source": [
        "<h3>Serial Correlation</h3>\n",
        "<br>\n",
        "<font size=\"+1\">\n",
        "    <ul>\n",
        "        <li>Suppose you want to simulate whether it will rain for $60$ days. Assume you have estimated that the overall proportion of rainy days is $0.2$.</li>\n",
        "        <br>\n",
        "        <li>First, simulate a time series of $60$ days by sampling from a variable with two outcomes, rain or no-rain, and plot the resulting data.</li>\n",
        "        <br>\n",
        "        <ul>\n",
        "            <li>Use the configuration <i>simulated_data.plot(style='ro', figsize=(10,3))</i> to display a visually appealing graph.</li>\n",
        "            <br>\n",
        "        </ul>\n",
        "        <li style=\"color:red\">Hint: Generate $60$ samples from a binomial distribution with $n=1$ and the appropriate probability.</li>\n",
        "        <br>\n",
        "        <li>Second, to make a more realistic simulation, you want to account for the dependence of the weather on given day on the weather from previous days.</li>\n",
        "        <br>\n",
        "        <ul>\n",
        "            <li>Specifically, assume the chance of rain occurring on a given day is</li>\n",
        "            <br>\n",
        "            <ul>\n",
        "                <li>$0.6$ if it rained yesterday</li>\n",
        "                <br>\n",
        "                <li>$0.1$ if it did not rain yesterday</li>\n",
        "                <br>\n",
        "            </ul>\n",
        "            <li>Simulate a time series of weather with the assumed conditional distribution and plot the resulting data.</li>\n",
        "            <br>\n",
        "            <li>Use the configuration <i>simulated_data.plot(style='ro', figsize=(10,3))</i> to display a visually appealing graph.</li>\n",
        "            <br>\n",
        "        </ul>\n",
        "        <li style=\"color:red\">Hint: Generate $1$ sample from the unconditional binomial distribution, then generate $59$ samples from a binomial distribution with parameters depending on the outcome of the previous observation.</li>\n",
        "        <br>\n",
        "    </ul>\n",
        "</font>"
      ]
    },
    {
      "cell_type": "code",
      "execution_count": null,
      "id": "f0e650d2",
      "metadata": {
        "id": "f0e650d2",
        "colab": {
          "base_uri": "https://localhost:8080/",
          "height": 228
        },
        "outputId": "5f290c3c-f814-4894-e12a-fd03d1ff0ac8"
      },
      "outputs": [
        {
          "output_type": "execute_result",
          "data": {
            "text/plain": [
              "<matplotlib.axes._subplots.AxesSubplot at 0x7f3f85b77550>"
            ]
          },
          "metadata": {},
          "execution_count": 45
        },
        {
          "output_type": "display_data",
          "data": {
            "text/plain": [
              "<Figure size 720x216 with 1 Axes>"
            ],
            "image/png": "[encoded data removed]"
          },
          "metadata": {
            "needs_background": "light"
          }
        }
      ],
      "source": [
        "rng = np.random.default_rng(seed=1)\n",
        "\n",
        "simulated_data = [rng.binomial(1,0.2)]\n",
        "for t in range(1, 60):\n",
        "    if simulated_data[t-1] == 1:\n",
        "        simulated_data.append(rng.binomial(1,0.6))\n",
        "    else:\n",
        "        simulated_data.append(rng.binomial(1,0.1))\n",
        "        \n",
        "simulated_data = pd.DataFrame(simulated_data, columns=['Rain Time Series'])\n",
        "simulated_data.plot(style='ro', figsize=(10,3))"
      ]
    },
    {
      "cell_type": "markdown",
      "id": "a4015227",
      "metadata": {
        "id": "a4015227"
      },
      "source": [
        "<h3>Accounting for Uncertain Product Quality When Forecasting Demand</h3>\n",
        "<br>\n",
        "<font size=\"+1\">\n",
        "    <ul>\n",
        "        <li>Suppose you want to forecast demand for a new product.</li>\n",
        "        <br>\n",
        "        <li>Based on past data and your domain-specific knowledge of the product, you estimate that the product quality will be</li>\n",
        "        <br>\n",
        "        <ul>\n",
        "            <li><i>Great</i> with probability $0.1$</li>\n",
        "            <br>\n",
        "            <li><i>Average</i> with probability $0.5$</li>\n",
        "            <br>\n",
        "            <li><i>Bad</i> with probability $0.4$</li>\n",
        "            <br>\n",
        "        </ul>\n",
        "        <li>You then model demand as a random variable that is normally distributed with a mean and standard deviation that depends on the product quality as follows</li>\n",
        "        <br>\n",
        "        <ul>\n",
        "            <li>$(\\mu, \\sigma) = (10000, 2000)$ if product quality is <i>Great</i></li>\n",
        "            <br>\n",
        "            <li>$(\\mu, \\sigma) = (5000, 1000)$ if product quality is <i>Average</i></li>\n",
        "            <br>\n",
        "            <li>$(\\mu, \\sigma) = (1000, 300)$ if product quality is <i>Bad</i></li>\n",
        "            <br>\n",
        "        </ul>\n",
        "        <li>Create a series called <i>forecast</i> with $10,000$ samples of the demand forecast, and compute the mean and standard deviation of the samples, as well as the probability that demand is more than $6000$.</li>\n",
        "        <br>\n",
        "        <li>Finally, plot a histogram of the samples with $100$ bins.</li>\n",
        "        <br>\n",
        "        <li>Note, you can ignore the constraint that demand should be a non-negative integer.</li>\n",
        "        <br>\n",
        "    </ul>\n",
        "</font>"
      ]
    },
    {
      "cell_type": "code",
      "execution_count": null,
      "id": "ea15ff68",
      "metadata": {
        "id": "ea15ff68",
        "colab": {
          "base_uri": "https://localhost:8080/",
          "height": 298
        },
        "outputId": "45b3fc56-cb75-46db-af71-96f2f490baa7"
      },
      "outputs": [
        {
          "output_type": "execute_result",
          "data": {
            "text/plain": [
              "<matplotlib.axes._subplots.AxesSubplot at 0x7f3f85a43510>"
            ]
          },
          "metadata": {},
          "execution_count": 46
        },
        {
          "output_type": "display_data",
          "data": {
            "text/plain": [
              "<Figure size 432x288 with 1 Axes>"
            ],
            "image/png": "[encoded data removed]"
          },
          "metadata": {
            "needs_background": "light"
          }
        }
      ],
      "source": [
        "rng = np.random.default_rng(seed=42)\n",
        "\n",
        "simulated_segment = []\n",
        "for customers in range(10_000):\n",
        "    segment = rng.choice(['Great', 'Average', 'Bad'], p=[0.1, 0.5, 0.4])\n",
        "    \n",
        "    if segment == 'Great':\n",
        "        simulated_segment.append(rng.normal(10000,2000))\n",
        "    if segment == 'Average':\n",
        "        simulated_segment.append(rng.normal(5000,1000))\n",
        "    else:\n",
        "        simulated_segment.append(rng.normal(1000,300))\n",
        "simulated_segment = pd.DataFrame(simulated_segment, columns=['Segment Distribution'])\n",
        "\n",
        "simulated_segment.plot(kind='hist', bins=100, title='Simulated Histogram of segment distribution')"
      ]
    },
    {
      "cell_type": "code",
      "source": [
        "#mean\n",
        "simulated_segment.mean()"
      ],
      "metadata": {
        "colab": {
          "base_uri": "https://localhost:8080/"
        },
        "id": "8EPU9mY3dvNA",
        "outputId": "544eb4c6-b2b9-487c-b175-ed0203bd07a5"
      },
      "id": "8EPU9mY3dvNA",
      "execution_count": null,
      "outputs": [
        {
          "output_type": "execute_result",
          "data": {
            "text/plain": [
              "Segment Distribution    3611.533268\n",
              "dtype: float64"
            ]
          },
          "metadata": {},
          "execution_count": 47
        }
      ]
    },
    {
      "cell_type": "code",
      "source": [
        "#standard deviation\n",
        "simulated_segment.std()"
      ],
      "metadata": {
        "colab": {
          "base_uri": "https://localhost:8080/"
        },
        "id": "F8DfFvVgd1ny",
        "outputId": "69cb73c4-8f05-4cd5-d9d9-03f9c3cc3739"
      },
      "id": "F8DfFvVgd1ny",
      "execution_count": null,
      "outputs": [
        {
          "output_type": "execute_result",
          "data": {
            "text/plain": [
              "Segment Distribution    2903.12132\n",
              "dtype: float64"
            ]
          },
          "metadata": {},
          "execution_count": 48
        }
      ]
    },
    {
      "cell_type": "code",
      "source": [
        "#prob that the demand is >6000\n",
        "(simulated_segment>6000).sum()/len(simulated_segment)"
      ],
      "metadata": {
        "colab": {
          "base_uri": "https://localhost:8080/"
        },
        "id": "R9fRazx2d38z",
        "outputId": "fcd3943e-d410-433b-ba30-87a9ac4c4f4b"
      },
      "id": "R9fRazx2d38z",
      "execution_count": null,
      "outputs": [
        {
          "output_type": "execute_result",
          "data": {
            "text/plain": [
              "Segment Distribution    0.160805\n",
              "dtype: float64"
            ]
          },
          "metadata": {},
          "execution_count": 49
        }
      ]
    },
    {
      "cell_type": "markdown",
      "id": "20508b8c",
      "metadata": {
        "id": "20508b8c"
      },
      "source": [
        "<h3>Simulating Serially Correlated Demand</h3>\n",
        "<br>\n",
        "<font size=\"+1\">\n",
        "    <ul>\n",
        "        <li>Suppose a logistics company would like to simulate demand for a given product.</li>\n",
        "        <br>\n",
        "        <li>Assume that there are <i>Good</i> and <i>Bad</i> weeks.</li>\n",
        "        <br>\n",
        "        <ul>\n",
        "            <li>On a good week, the demand is normally distributed with mean $200$ and standard deviation $50$</li>\n",
        "            <br>\n",
        "            <li>On a bad week, the demand is normally distributed with mean $100$ and standard deviation $30$</li>\n",
        "            <br>\n",
        "            <li>As a practical constraint, you should round the decimal part of demand to the nearest integer and set it to zero if it is ever negative.</li>\n",
        "        <br>\n",
        "        </ul>\n",
        "        <li>Additionally, we should assume that a week being <i>good</i> or <i>bad</i> is serially correlated across time.</li>\n",
        "        <br>\n",
        "        <ul>\n",
        "            <li>Conditional on a given week being <i>Good</i>, the next week remains <i>Good</i>  with probability $0.9$.</li>\n",
        "            <br>\n",
        "            <li>Similarly, conditional on a given week being <i>Bad</i>, the next week remains <i>Bad</i>  with probability $0.9$.</li>\n",
        "            <br>\n",
        "        </ul>\n",
        "        <li>You are to simulate a time series of demand for $100$ weeks, assuming the first week starts <i>Good</i>. Also, plot the demand over time.</li>\n",
        "        <br>\n",
        "    </ul>\n",
        "</font>"
      ]
    },
    {
      "cell_type": "code",
      "execution_count": null,
      "id": "b2a4505a",
      "metadata": {
        "scrolled": true,
        "id": "b2a4505a",
        "colab": {
          "base_uri": "https://localhost:8080/",
          "height": 230
        },
        "outputId": "c925349d-2295-484c-cb07-43c582cb05da"
      },
      "outputs": [
        {
          "output_type": "execute_result",
          "data": {
            "text/plain": [
              "<matplotlib.axes._subplots.AxesSubplot at 0x7f3f91904a10>"
            ]
          },
          "metadata": {},
          "execution_count": 50
        },
        {
          "output_type": "display_data",
          "data": {
            "text/plain": [
              "<Figure size 720x216 with 1 Axes>"
            ],
            "image/png": "[encoded data removed]"
          },
          "metadata": {
            "needs_background": "light"
          }
        }
      ],
      "source": [
        "rng = np.random.default_rng(seed=0)\n",
        "\n",
        "simulated_demand = [rng.normal(200,50)]\n",
        "simulated_week = [1]\n",
        "\n",
        "for t in range(1, 100):\n",
        "    if simulated_week[t-1] == 1:\n",
        "      simulated_week.append(rng.binomial(1,0.9))\n",
        "    else:\n",
        "      simulated_week.append(rng.binomial(1,0.1))\n",
        "    \n",
        "    if simulated_week[t] == 1:\n",
        "      demand = rng.normal(200,50)\n",
        "      if demand < 0:\n",
        "        demand = 0\n",
        "      else: \n",
        "        demand = round(demand)\n",
        "    else:\n",
        "      demand = rng.normal(100,30)\n",
        "      if demand < 0:\n",
        "        demand = 0\n",
        "      else:\n",
        "        demand = round(demand)\n",
        "    simulated_demand.append(demand)\n",
        "      \n",
        "simulated_demand = pd.DataFrame(simulated_demand, columns=['Demand stimulation'])\n",
        "\n",
        "simulated_demand.plot(style='r--', figsize=(10,3))"
      ]
    },
    {
      "cell_type": "markdown",
      "id": "9cb2044c",
      "metadata": {
        "id": "9cb2044c"
      },
      "source": [
        "<h3>Forecasting Bonus Earnings</h3>\n",
        "<br>\n",
        "<font size=\"+1\">\n",
        "    <ul>\n",
        "        <li>Assume you are a salesperson for cars and your pay is tied to an incentive scheme.</li>\n",
        "        <br>\n",
        "        <ul>\n",
        "            <li>For each month, there is a <i>target profit</i> of $80,000$ that the car dealership sets.</li>\n",
        "            <br>\n",
        "            <li>If you make more profit, above the target profit, for the dealership that month, then you receive a $20\\%$ bonus on the amount of profit over the target</li>\n",
        "            <br>\n",
        "            <li>However, if you do not meet the target, then you receive no bonus.</li>\n",
        "            <br>\n",
        "        </ul>\n",
        "        <li>As an example, consider the following:</li>\n",
        "        <br>\n",
        "        <ul>\n",
        "            <li>If you make $\\$100,000$ of profit, then you receive $\\$4,000 = (100,000 - 80,000)\\times 0.2$ in bonus.</li>\n",
        "            <br>\n",
        "            <li>However, if you make $\\$70,000$, then you receive no bonus.</li>\n",
        "            <br>\n",
        "        </ul>\n",
        "        <li>You would like to understand the distribution of outcomes for your monthly bonus.</li>\n",
        "        <br>\n",
        "        <ul>\n",
        "            <li>You estimate that the number of cars you sell is binomially distributed with $n=200$ and $p=0.2$.</li>\n",
        "            <br>\n",
        "            <li>On every car you sell, the amount of profit you make for the dealership is normally distributed with $\\mu=3000$ and $\\sigma=1000$, and the profit from each car is independent from eachother.</li>\n",
        "            <br>\n",
        "            <li>This means that the profit for two different cars should be two independent draws from the normal distribution.</li>\n",
        "            <br>\n",
        "        </ul>\n",
        "        <li>You are to create a series called <i>monthly_bonus</i> with $100,000$ samples of your monthly bonus.</li>\n",
        "        <br>\n",
        "        <ul>\n",
        "            <li>Additionally, print the mean and standard deviation rounded to the nearest integer, as well as the probability that the bonus is less than $\\$5,000$ (round the probability to three decimal places).</li>\n",
        "            <br>\n",
        "            <li>Finally, plot a histogram (use $100$ bins) of the distribution of your monthly bonus.</li>\n",
        "            <br>\n",
        "        </ul>\n",
        "    </ul>\n",
        "</font>"
      ]
    },
    {
      "cell_type": "code",
      "execution_count": null,
      "id": "1710b264",
      "metadata": {
        "id": "1710b264",
        "colab": {
          "base_uri": "https://localhost:8080/",
          "height": 419
        },
        "outputId": "0f1ed888-989c-411b-d59d-3504475469d9"
      },
      "outputs": [
        {
          "output_type": "execute_result",
          "data": {
            "text/plain": [
              "       Stimulated Monthly Bonus\n",
              "0                   8497.956120\n",
              "1                   3075.097337\n",
              "2                   5816.761646\n",
              "3                   7320.993946\n",
              "4                   6527.230341\n",
              "...                         ...\n",
              "99995              10644.995743\n",
              "99996              11929.415496\n",
              "99997              10877.417393\n",
              "99998               2662.522010\n",
              "99999              12601.040793\n",
              "\n",
              "[100000 rows x 1 columns]"
            ],
            "text/html": [
              "\n",
              "  <div id=\"df-0d8f9b29-35b3-4fea-940c-a3881e9e0c98\">\n",
              "    <div class=\"colab-df-container\">\n",
              "      <div>\n",
              "<style scoped>\n",
              "    .dataframe tbody tr th:only-of-type {\n",
              "        vertical-align: middle;\n",
              "    }\n",
              "\n",
              "    .dataframe tbody tr th {\n",
              "        vertical-align: top;\n",
              "    }\n",
              "\n",
              "    .dataframe thead th {\n",
              "        text-align: right;\n",
              "    }\n",
              "</style>\n",
              "<table border=\"1\" class=\"dataframe\">\n",
              "  <thead>\n",
              "    <tr style=\"text-align: right;\">\n",
              "      <th></th>\n",
              "      <th>Stimulated Monthly Bonus</th>\n",
              "    </tr>\n",
              "  </thead>\n",
              "  <tbody>\n",
              "    <tr>\n",
              "      <th>0</th>\n",
              "      <td>8497.956120</td>\n",
              "    </tr>\n",
              "    <tr>\n",
              "      <th>1</th>\n",
              "      <td>3075.097337</td>\n",
              "    </tr>\n",
              "    <tr>\n",
              "      <th>2</th>\n",
              "      <td>5816.761646</td>\n",
              "    </tr>\n",
              "    <tr>\n",
              "      <th>3</th>\n",
              "      <td>7320.993946</td>\n",
              "    </tr>\n",
              "    <tr>\n",
              "      <th>4</th>\n",
              "      <td>6527.230341</td>\n",
              "    </tr>\n",
              "    <tr>\n",
              "      <th>...</th>\n",
              "      <td>...</td>\n",
              "    </tr>\n",
              "    <tr>\n",
              "      <th>99995</th>\n",
              "      <td>10644.995743</td>\n",
              "    </tr>\n",
              "    <tr>\n",
              "      <th>99996</th>\n",
              "      <td>11929.415496</td>\n",
              "    </tr>\n",
              "    <tr>\n",
              "      <th>99997</th>\n",
              "      <td>10877.417393</td>\n",
              "    </tr>\n",
              "    <tr>\n",
              "      <th>99998</th>\n",
              "      <td>2662.522010</td>\n",
              "    </tr>\n",
              "    <tr>\n",
              "      <th>99999</th>\n",
              "      <td>12601.040793</td>\n",
              "    </tr>\n",
              "  </tbody>\n",
              "</table>\n",
              "<p>100000 rows × 1 columns</p>\n",
              "</div>\n",
              "      <button class=\"colab-df-convert\" onclick=\"convertToInteractive('df-0d8f9b29-35b3-4fea-940c-a3881e9e0c98')\"\n",
              "              title=\"Convert this dataframe to an interactive table.\"\n",
              "              style=\"display:none;\">\n",
              "        \n",
              "  <svg xmlns=\"http://www.w3.org/2000/svg\" height=\"24px\"viewBox=\"0 0 24 24\"\n",
              "       width=\"24px\">\n",
              "    <path d=\"M0 0h24v24H0V0z\" fill=\"none\"/>\n",
              "    <path d=\"M18.56 5.44l.94 2.06.94-2.06 2.06-.94-2.06-.94-.94-2.06-.94 2.06-2.06.94zm-11 1L8.5 8.5l.94-2.06 2.06-.94-2.06-.94L8.5 2.5l-.94 2.06-2.06.94zm10 10l.94 2.06.94-2.06 2.06-.94-2.06-.94-.94-2.06-.94 2.06-2.06.94z\"/><path d=\"M17.41 7.96l-1.37-1.37c-.4-.4-.92-.59-1.43-.59-.52 0-1.04.2-1.43.59L10.3 9.45l-7.72 7.72c-.78.78-.78 2.05 0 2.83L4 21.41c.39.39.9.59 1.41.59.51 0 1.02-.2 1.41-.59l7.78-7.78 2.81-2.81c.8-.78.8-2.07 0-2.86zM5.41 20L4 18.59l7.72-7.72 1.47 1.35L5.41 20z\"/>\n",
              "  </svg>\n",
              "      </button>\n",
              "      \n",
              "  <style>\n",
              "    .colab-df-container {\n",
              "      display:flex;\n",
              "      flex-wrap:wrap;\n",
              "      gap: 12px;\n",
              "    }\n",
              "\n",
              "    .colab-df-convert {\n",
              "      background-color: #E8F0FE;\n",
              "      border: none;\n",
              "      border-radius: 50%;\n",
              "      cursor: pointer;\n",
              "      display: none;\n",
              "      fill: #1967D2;\n",
              "      height: 32px;\n",
              "      padding: 0 0 0 0;\n",
              "      width: 32px;\n",
              "    }\n",
              "\n",
              "    .colab-df-convert:hover {\n",
              "      background-color: #E2EBFA;\n",
              "      box-shadow: 0px 1px 2px rgba(60, 64, 67, 0.3), 0px 1px 3px 1px rgba(60, 64, 67, 0.15);\n",
              "      fill: #174EA6;\n",
              "    }\n",
              "\n",
              "    [theme=dark] .colab-df-convert {\n",
              "      background-color: #3B4455;\n",
              "      fill: #D2E3FC;\n",
              "    }\n",
              "\n",
              "    [theme=dark] .colab-df-convert:hover {\n",
              "      background-color: #434B5C;\n",
              "      box-shadow: 0px 1px 3px 1px rgba(0, 0, 0, 0.15);\n",
              "      filter: drop-shadow(0px 1px 2px rgba(0, 0, 0, 0.3));\n",
              "      fill: #FFFFFF;\n",
              "    }\n",
              "  </style>\n",
              "\n",
              "      <script>\n",
              "        const buttonEl =\n",
              "          document.querySelector('#df-0d8f9b29-35b3-4fea-940c-a3881e9e0c98 button.colab-df-convert');\n",
              "        buttonEl.style.display =\n",
              "          google.colab.kernel.accessAllowed ? 'block' : 'none';\n",
              "\n",
              "        async function convertToInteractive(key) {\n",
              "          const element = document.querySelector('#df-0d8f9b29-35b3-4fea-940c-a3881e9e0c98');\n",
              "          const dataTable =\n",
              "            await google.colab.kernel.invokeFunction('convertToInteractive',\n",
              "                                                     [key], {});\n",
              "          if (!dataTable) return;\n",
              "\n",
              "          const docLinkHtml = 'Like what you see? Visit the ' +\n",
              "            '<a target=\"_blank\" href=https://colab.research.google.com/notebooks/data_table.ipynb>data table notebook</a>'\n",
              "            + ' to learn more about interactive tables.';\n",
              "          element.innerHTML = '';\n",
              "          dataTable['output_type'] = 'display_data';\n",
              "          await google.colab.output.renderOutput(dataTable, element);\n",
              "          const docLink = document.createElement('div');\n",
              "          docLink.innerHTML = docLinkHtml;\n",
              "          element.appendChild(docLink);\n",
              "        }\n",
              "      </script>\n",
              "    </div>\n",
              "  </div>\n",
              "  "
            ]
          },
          "metadata": {},
          "execution_count": 51
        }
      ],
      "source": [
        "rng = np.random.default_rng(seed=0)\n",
        "\n",
        "bonus = []\n",
        "for t in range (100_000):\n",
        "  total_profit = 0 \n",
        "  cars_num = rng.binomial(n=200,p=0.2)\n",
        "\n",
        "  for i in range(cars_num):\n",
        "    profit = rng.normal(3000,1000)\n",
        "    total_profit += profit\n",
        "    \n",
        "  if total_profit >= 80000:\n",
        "    bonus.append((total_profit - 80000)*0.2)\n",
        "  else: \n",
        "    bonus.append(0)\n",
        "  \n",
        "monthly_bonus = pd.DataFrame(bonus, columns = ['Stimulated Monthly Bonus'])\n",
        "monthly_bonus\n"
      ]
    },
    {
      "cell_type": "code",
      "source": [
        "round(monthly_bonus.mean())"
      ],
      "metadata": {
        "colab": {
          "base_uri": "https://localhost:8080/"
        },
        "id": "aLnRyXil3lJb",
        "outputId": "5830bc7d-7642-4313-bed4-71d0288a2d73"
      },
      "id": "aLnRyXil3lJb",
      "execution_count": null,
      "outputs": [
        {
          "output_type": "execute_result",
          "data": {
            "text/plain": [
              "Stimulated Monthly Bonus    8001.0\n",
              "dtype: float64"
            ]
          },
          "metadata": {},
          "execution_count": 52
        }
      ]
    },
    {
      "cell_type": "code",
      "source": [
        "round(monthly_bonus.std())"
      ],
      "metadata": {
        "colab": {
          "base_uri": "https://localhost:8080/"
        },
        "id": "MReixjBX3szN",
        "outputId": "de7b5fab-456a-47ef-83d7-25d336b80731"
      },
      "id": "MReixjBX3szN",
      "execution_count": null,
      "outputs": [
        {
          "output_type": "execute_result",
          "data": {
            "text/plain": [
              "Stimulated Monthly Bonus    3598.0\n",
              "dtype: float64"
            ]
          },
          "metadata": {},
          "execution_count": 53
        }
      ]
    },
    {
      "cell_type": "code",
      "source": [
        "round((monthly_bonus < 5000).sum()/len(monthly_bonus), 3)"
      ],
      "metadata": {
        "colab": {
          "base_uri": "https://localhost:8080/"
        },
        "id": "NKJUfqVg6MKB",
        "outputId": "365f79a0-7068-4f23-f565-66f72128e7bf"
      },
      "id": "NKJUfqVg6MKB",
      "execution_count": null,
      "outputs": [
        {
          "output_type": "execute_result",
          "data": {
            "text/plain": [
              "Stimulated Monthly Bonus    0.206\n",
              "dtype: float64"
            ]
          },
          "metadata": {},
          "execution_count": 54
        }
      ]
    },
    {
      "cell_type": "code",
      "source": [
        "monthly_bonus.plot(kind='hist', bins=100, title='Monthly bonus')"
      ],
      "metadata": {
        "colab": {
          "base_uri": "https://localhost:8080/",
          "height": 298
        },
        "id": "Miy9Ak9d5-7U",
        "outputId": "416de4d3-d036-4a14-9d7e-7d34bb00287b"
      },
      "id": "Miy9Ak9d5-7U",
      "execution_count": null,
      "outputs": [
        {
          "output_type": "execute_result",
          "data": {
            "text/plain": [
              "<matplotlib.axes._subplots.AxesSubplot at 0x7f3f85dd1550>"
            ]
          },
          "metadata": {},
          "execution_count": 55
        },
        {
          "output_type": "display_data",
          "data": {
            "text/plain": [
              "<Figure size 432x288 with 1 Axes>"
            ],
            "image/png": "[encoded data removed]"
          },
          "metadata": {
            "needs_background": "light"
          }
        }
      ]
    },
    {
      "cell_type": "markdown",
      "id": "dca66993",
      "metadata": {
        "id": "dca66993"
      },
      "source": [
        "<h3>Simulating Demand Under Price Promotions</h3>\n",
        "<br>\n",
        "<font size=\"+1\">\n",
        "    <ul>\n",
        "        <li>Suppose a grocery store offers promotions on a certain product with probability $0.3$ every month, independent from other months.</li>\n",
        "        <br>\n",
        "        <li>Assume that the distribution of the monthly demand for the product is independent and normally distributed with the following parameters:</li>\n",
        "        <br>\n",
        "        <ul>\n",
        "            <li>on a month without promotions, the demand is normally distributed with mean $500$ and standard deviation $100$</li>\n",
        "            <br>\n",
        "            <li>on a month with promotions, the demand is normally distributed with mean $800+100t$ and standard deviation $150$, where $t$ is the number of months without a promotion since the last promotion</li>\n",
        "            <br>\n",
        "            <li>For example, if the last month had a promotion, then $t=0$. If neither of the last two months had a promotion but the month before had one, then $t=2$.</li>\n",
        "            <br>\n",
        "            <li>You can ignore the practical constraint of rounding the decimal part of demand to the nearest integer and set it to zero if it is ever negative.</li>\n",
        "            <br>\n",
        "        </ul>\n",
        "        <li>Write a function called <i>simulate_demand()</i> with one input argument:</li>\n",
        "        <br>\n",
        "        <ul>\n",
        "            <li><b>num_months</b>, which is a positive integer representing the number of months to simulate.</li>\n",
        "            <br>\n",
        "        </ul>\n",
        "        <li>The function should return a list of <b>num_months</b>-many numbers corresponding to consecutive months of simulated demand for the product.</li>\n",
        "        <br>\n",
        "        <li>Assume that prior to the simulated months there was a promotion, so $t=0$ initially.</li>\n",
        "        <br>\n",
        "    </ul>\n",
        "</font>"
      ]
    },
    {
      "cell_type": "code",
      "execution_count": null,
      "id": "998fff61",
      "metadata": {
        "id": "998fff61",
        "colab": {
          "base_uri": "https://localhost:8080/"
        },
        "outputId": "1ddb3da8-dace-470c-f575-988351aa51ea"
      },
      "outputs": [
        {
          "output_type": "execute_result",
          "data": {
            "text/plain": [
              "[486.78951367086984,\n",
              " 915.7350175729559,\n",
              " 536.1595054909485,\n",
              " 594.7080963129242,\n",
              " 373.45785289539475,\n",
              " 504.13259793472434,\n",
              " 478.1208336067454,\n",
              " 426.77326452965485,\n",
              " 468.36998436308454,\n",
              " 1056.3770054164015]"
            ]
          },
          "metadata": {},
          "execution_count": 56
        }
      ],
      "source": [
        "rng = np.random.default_rng(seed=0)\n",
        "def simulate_demand(num_months):\n",
        "  simulated_promotion = []\n",
        "  for i in range(num_months):\n",
        "    promotion = rng.choice(['Yes', 'No'], p=[0.3, 0.7])\n",
        "    t=0\n",
        "    if promotion[t-1]== 'Yes':\n",
        "      t=0 \n",
        "    else: \n",
        "      t +=1\n",
        "\n",
        "    if promotion == 'No':\n",
        "        simulated_promotion.append(rng.normal(500,100))\n",
        "    else:\n",
        "        simulated_promotion.append(rng.normal(800+100*t,150)) \n",
        "\n",
        "  return simulated_promotion\n",
        "\n",
        "simulate_demand(10)\n",
        "  \n"
      ]
    }
  ],
  "metadata": {
    "hide_input": false,
    "kernelspec": {
      "display_name": "Python 3 (ipykernel)",
      "language": "python",
      "name": "python3"
    },
    "language_info": {
      "codemirror_mode": {
        "name": "ipython",
        "version": 3
      },
      "file_extension": ".py",
      "mimetype": "text/x-python",
      "name": "python",
      "nbconvert_exporter": "python",
      "pygments_lexer": "ipython3",
      "version": "3.8.8"
    },
    "toc": {
      "base_numbering": 1,
      "nav_menu": {},
      "number_sections": true,
      "sideBar": true,
      "skip_h1_title": false,
      "title_cell": "Table of Contents",
      "title_sidebar": "Contents",
      "toc_cell": true,
      "toc_position": {
        "height": "calc(100% - 180px)",
        "left": "10px",
        "top": "150px",
        "width": "322.958px"
      },
      "toc_section_display": true,
      "toc_window_display": true
    },
    "colab": {
      "provenance": [],
      "collapsed_sections": []
    }
  },
  "nbformat": 4,
  "nbformat_minor": 5
}